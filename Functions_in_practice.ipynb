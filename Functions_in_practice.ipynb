{
 "cells": [
  {
   "cell_type": "markdown",
   "metadata": {},
   "source": [
    "## <center>Introduction to Python Programming – Mini Project</center>\n"
   ]
  },
  {
   "cell_type": "markdown",
   "metadata": {},
   "source": [
    "### Problem 1\n",
    "\n",
    "Write a program to calculate area of shapes. Your program should be capable of calculating the area of a square, rectangle, triangle and a circle. The user should be presented with options to select the shape. Based on which shape is chosen by the user, the program should ask for the appropriate input and print the resulting area on the screen.\n",
    "\n",
    "When the program is run, the screen should display something like this:\n",
    "\n",
    "**Which shape would you like to calculate the area for? Please enter the option number-**<br>\n",
    "**1. Square**<br>\n",
    "**2. Rectangle**<br>\n",
    "**3. Triangle**<br>\n",
    "**4. Circle**<br>\n",
    "**Enter Option: _**\n",
    "\n",
    "Say the user enters the option 1.\n",
    "\n",
    "**Please enter the length of a side: _**\n",
    "\n",
    "If the user enters a value of 5. The output should be:\n",
    "\n",
    "**The area of the square is 25**\n",
    "\n",
    "This program should indicate that the input is invalid if the user enters a character instead of a number as input. For instance if the user enters a value of ‘a’ instead of 5 in the previous example the program should prompt:\n",
    "\n",
    "**Invalid input, please enter a number: _**\n"
   ]
  },
  {
   "cell_type": "code",
   "execution_count": 11,
   "metadata": {},
   "outputs": [
    {
     "name": "stdout",
     "output_type": "stream",
     "text": [
      "Which shape would you like to calculate the area for? Please enter the option number:3\n",
      "Enter Length:4\n",
      "Enter height:5\n",
      "Area of Triangle 10.0\n"
     ]
    }
   ],
   "source": [
    "def find_area():\n",
    "    \n",
    "    \n",
    "    Options = {\"Square\":1,\"Rectange\":2,\"triangle\":3, \"Circle\":4 }\n",
    "    shape = input(\"Which shape would you like to calculate the area for? Please enter the option number:\")\n",
    "    shape = int(shape)\n",
    "    length = input(\"Enter Length:\")\n",
    "    length = int(length)\n",
    "    height = input(\"Enter height:\")\n",
    "    height = int(height)\n",
    "    if shape == 1:\n",
    "        Area = length*length\n",
    "        print(\"Area of Square\", Area)\n",
    "        \n",
    "    elif shape == 2:\n",
    "        Area = length*height\n",
    "        print(\"Area of rectange\", Area)\n",
    "            \n",
    "    elif shape == 3:     \n",
    "        Area =  1/2 * (length * height)\n",
    "        print(\"Area of Triangle\", Area)\n",
    "        \n",
    "    elif shape == 4:\n",
    "        Area = 22/7 * (length**2)\n",
    "        print(\"Area of a Circle\", Area)\n",
    "        \n",
    "    else:\n",
    "        print(\"Invalid input, please enter a number from the above options provided\")\n",
    "              \n",
    "find_area()      \n"
   ]
  },
  {
   "cell_type": "markdown",
   "metadata": {},
   "source": [
    "### Problem 2\n",
    "\n",
    "You have newly joined an organization abc.com. Write a python function that will take your 1st and last name as input and print the official mail as which has a format like firstname.lastname@abc.com\n",
    "\n",
    "When the program is run, the screen should display something like this:\n",
    "\n",
    "Enter your first name: nikhil\n",
    "\n",
    "Enter your last name: agrawal\n",
    "\n",
    "You official email id is nikhil.agrawal@abc.com \n",
    "\n",
    "**Hint:** use string concatenation."
   ]
  },
  {
   "cell_type": "code",
   "execution_count": 19,
   "metadata": {},
   "outputs": [
    {
     "name": "stdout",
     "output_type": "stream",
     "text": [
      "Give your first_name:harinath\n",
      "Give yourlast_name:mandha\n"
     ]
    },
    {
     "data": {
      "text/plain": [
       "('your email ID:', 'harinath.mandhaabc.com')"
      ]
     },
     "execution_count": 19,
     "metadata": {},
     "output_type": "execute_result"
    }
   ],
   "source": [
    "def Generate_mail():\n",
    "    first_name = input(\"Give your first_name:\")\n",
    "    first_name = str(first_name)\n",
    "    last_name = input(\"Give yourlast_name:\")\n",
    "    last_name = str(last_name)\n",
    "    organization = \"abc.com\"\n",
    "    \n",
    "    email = first_name + \".\" + last_name + organization\n",
    "    return \"your email ID:\", email\n",
    "Generate_mail()\n",
    "    \n",
    "    \n",
    "    "
   ]
  }
 ],
 "metadata": {
  "kernelspec": {
   "display_name": "Python 3 (ipykernel)",
   "language": "python",
   "name": "python3"
  },
  "language_info": {
   "codemirror_mode": {
    "name": "ipython",
    "version": 3
   },
   "file_extension": ".py",
   "mimetype": "text/x-python",
   "name": "python",
   "nbconvert_exporter": "python",
   "pygments_lexer": "ipython3",
   "version": "3.9.13"
  }
 },
 "nbformat": 4,
 "nbformat_minor": 2
}
