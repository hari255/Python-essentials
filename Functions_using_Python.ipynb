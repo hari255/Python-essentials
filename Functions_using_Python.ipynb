{
 "cells": [
  {
   "cell_type": "code",
   "execution_count": 1,
   "id": "e56494b1",
   "metadata": {},
   "outputs": [],
   "source": [
    "text =\"\"\"The CHi-squared test is the back bone of Inferential Statistics and statistical Analytics. \n",
    "There are many assumptions under Chi-squared test, that can help to solve any real -world problems, but the challenging part on how to prove those? \"\"\""
   ]
  },
  {
   "cell_type": "markdown",
   "id": "cdc482a2",
   "metadata": {},
   "source": [
    "### Text Processing in Python"
   ]
  },
  {
   "cell_type": "code",
   "execution_count": 2,
   "id": "d0c2d40f",
   "metadata": {},
   "outputs": [
    {
     "data": {
      "text/plain": [
       "'the chi-squared test is the back bone of inferential statistics and statistical analytics. \\nthere are many assumptions under chi-squared test, that can help to solve any real -world problems, but the challenging part on how to prove those? '"
      ]
     },
     "execution_count": 2,
     "metadata": {},
     "output_type": "execute_result"
    }
   ],
   "source": [
    "def ToLowerCase(text):\n",
    "    return text.lower()\n",
    "ToLowerCase(text)"
   ]
  },
  {
   "cell_type": "code",
   "execution_count": 3,
   "id": "020c1af0",
   "metadata": {},
   "outputs": [
    {
     "data": {
      "text/plain": [
       "'THE CHI-SQUARED TEST IS THE BACK BONE OF INFERENTIAL STATISTICS AND STATISTICAL ANALYTICS. \\nTHERE ARE MANY ASSUMPTIONS UNDER CHI-SQUARED TEST, THAT CAN HELP TO SOLVE ANY REAL -WORLD PROBLEMS, BUT THE CHALLENGING PART ON HOW TO PROVE THOSE? '"
      ]
     },
     "execution_count": 3,
     "metadata": {},
     "output_type": "execute_result"
    }
   ],
   "source": [
    "def ToUpperCase(text):\n",
    "    return text.upper()\n",
    "ToUpperCase(text)"
   ]
  },
  {
   "cell_type": "code",
   "execution_count": 4,
   "id": "0b512835",
   "metadata": {},
   "outputs": [
    {
     "data": {
      "text/plain": [
       "'The CHisquared test is the back bone of Inferential Statistics and statistical Analytics \\nThere are many assumptions under Chisquared test that can help to solve any real world problems but the challenging part on how to prove those '"
      ]
     },
     "execution_count": 4,
     "metadata": {},
     "output_type": "execute_result"
    }
   ],
   "source": [
    "def removePunctuation(text):\n",
    "    punctuation = [\",\", \".\", \"?\", \"-\"]\n",
    "    for punc in punctuation:\n",
    "        text = text.replace(punc, \"\")\n",
    "    return text\n",
    "removePunctuation(text)"
   ]
  },
  {
   "cell_type": "code",
   "execution_count": 5,
   "id": "989d7e45",
   "metadata": {},
   "outputs": [
    {
     "name": "stdout",
     "output_type": "stream",
     "text": [
      "The CHi-squared test is the back bone of Inferential Statistics and statistical Analytics. \n",
      "There are many assumptions under Chi-squared test, that can help to solve any real -world problems, but the challenging part on how to prove those? \n"
     ]
    }
   ],
   "source": [
    "print(text)"
   ]
  },
  {
   "cell_type": "code",
   "execution_count": 6,
   "id": "ead36630",
   "metadata": {},
   "outputs": [
    {
     "data": {
      "text/plain": [
       "'CHi-squared test back bone Inferential Statistics statistical Analytics. There many assumptions under Chi-squared test, that help solve real -world problems, challenging part prove those?'"
      ]
     },
     "execution_count": 6,
     "metadata": {},
     "output_type": "execute_result"
    }
   ],
   "source": [
    "def removeShortWords(text):\n",
    "    return ' '.join([word for word in text.split() if len(word) > 3])\n",
    "removeShortWords(text)        "
   ]
  },
  {
   "cell_type": "code",
   "execution_count": 7,
   "id": "c1249c98",
   "metadata": {},
   "outputs": [
    {
     "data": {
      "text/plain": [
       "'The test is the back bone of and There are many under test, that can help to solve any real but the part on how to prove'"
      ]
     },
     "execution_count": 7,
     "metadata": {},
     "output_type": "execute_result"
    }
   ],
   "source": [
    "def removeLongWords(text):\n",
    "    return ' '.join([word for word in text.split() if len(word) < 6])\n",
    "removeLongWords(text)    "
   ]
  },
  {
   "cell_type": "code",
   "execution_count": 8,
   "id": "13c5ec7b",
   "metadata": {},
   "outputs": [
    {
     "data": {
      "text/plain": [
       "'The CHi-squared test is the back bone of Inferential Statistics and statistical Analytics. \\nThere are many assumptions under Chi-squared test, that can help to solve any real -world problems, but the challenging part on how to prove those? '"
      ]
     },
     "execution_count": 8,
     "metadata": {},
     "output_type": "execute_result"
    }
   ],
   "source": [
    "def removeNewLines(text):\n",
    "    text = text.replace(\"\\n \" , \"\")\n",
    "    return text\n",
    "removeNewLines(text)"
   ]
  },
  {
   "cell_type": "code",
   "execution_count": 9,
   "id": "a6e00353",
   "metadata": {},
   "outputs": [
    {
     "data": {
      "text/plain": [
       "[<function __main__.removeNewLines(text)>,\n",
       " <function __main__.removeLongWords(text)>,\n",
       " <function __main__.removeShortWords(text)>,\n",
       " <function __main__.removePunctuation(text)>,\n",
       " <function __main__.ToLowerCase(text)>,\n",
       " <function __main__.ToUpperCase(text)>]"
      ]
     },
     "execution_count": 9,
     "metadata": {},
     "output_type": "execute_result"
    }
   ],
   "source": [
    "processingFunctions = [removeNewLines, removeLongWords, removeShortWords, removePunctuation, ToLowerCase, ToUpperCase]\n",
    "processingFunctions"
   ]
  },
  {
   "cell_type": "code",
   "execution_count": 10,
   "id": "9f86d5ae",
   "metadata": {},
   "outputs": [
    {
     "name": "stdout",
     "output_type": "stream",
     "text": [
      "TEST BACK BONE THERE MANY UNDER TEST THAT HELP SOLVE REAL PART PROVE\n"
     ]
    }
   ],
   "source": [
    "for func in processingFunctions:\n",
    "    text = func(text)\n",
    "    \n",
    "print(text)    "
   ]
  },
  {
   "cell_type": "markdown",
   "id": "4fa099d1",
   "metadata": {},
   "source": [
    "### Lambda Functions\n"
   ]
  },
  {
   "cell_type": "code",
   "execution_count": 11,
   "id": "df783281",
   "metadata": {},
   "outputs": [
    {
     "data": {
      "text/plain": [
       "6"
      ]
     },
     "execution_count": 11,
     "metadata": {},
     "output_type": "execute_result"
    }
   ],
   "source": [
    "2+4"
   ]
  },
  {
   "cell_type": "code",
   "execution_count": 14,
   "id": "9db63602",
   "metadata": {},
   "outputs": [
    {
     "data": {
      "text/plain": [
       "8"
      ]
     },
     "execution_count": 14,
     "metadata": {},
     "output_type": "execute_result"
    }
   ],
   "source": [
    "(lambda x: x+3 )  (5        )"
   ]
  },
  {
   "cell_type": "code",
   "execution_count": 16,
   "id": "533d0b4a",
   "metadata": {},
   "outputs": [
    {
     "data": {
      "text/plain": [
       "[2, 3, 5, 6, 8, 9]"
      ]
     },
     "execution_count": 16,
     "metadata": {},
     "output_type": "execute_result"
    }
   ],
   "source": []
  },
  {
   "cell_type": "code",
   "execution_count": null,
   "id": "079abd09",
   "metadata": {},
   "outputs": [],
   "source": []
  }
 ],
 "metadata": {
  "kernelspec": {
   "display_name": "Python 3 (ipykernel)",
   "language": "python",
   "name": "python3"
  },
  "language_info": {
   "codemirror_mode": {
    "name": "ipython",
    "version": 3
   },
   "file_extension": ".py",
   "mimetype": "text/x-python",
   "name": "python",
   "nbconvert_exporter": "python",
   "pygments_lexer": "ipython3",
   "version": "3.9.13"
  }
 },
 "nbformat": 4,
 "nbformat_minor": 5
}
